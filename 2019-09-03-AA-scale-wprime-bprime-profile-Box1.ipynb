{
 "cells": [
  {
   "cell_type": "code",
   "execution_count": 1,
   "metadata": {},
   "outputs": [
    {
     "name": "stdout",
     "output_type": "stream",
     "text": [
      "#!/usr/bin/env bash\n",
      "\n",
      "#SBATCH -J make_profiles\n",
      "#SBATCH -n 1\n",
      "#SBATCH --cpus-per-task=1\n",
      "#SBATCH --mem=112G\n",
      "#SBATCH -t 00:20:00\n",
      "#SBATCH --constraint=HSW24\n",
      "#SBATCH --exclusive\n",
      "#SBATCH --nodes=1\n",
      "#SBATCH --ntasks-per-node=24\n",
      "JOB_ID=${SLURM_JOB_ID%;*}\n",
      "\n",
      "\n",
      "\n",
      "/scratch/cnt0024/hmg2840/albert7a/anaconda3/bin/python -m distributed.cli.dask_worker tcp://172.30.100.1:40139 --nthreads 0 --nprocs 28 --memory-limit 4.29GB --name make_profiles--${JOB_ID}-- --death-timeout 60 --local-directory $SCRATCHDIR/daskjobqueue --interface ib0\n",
      "\n"
     ]
    },
    {
     "name": "stderr",
     "output_type": "stream",
     "text": [
      "/scratch/cnt0024/hmg2840/albert7a/anaconda3/lib/python3.7/site-packages/distributed/dashboard/core.py:74: UserWarning: \n",
      "Failed to start diagnostics server on port 8787. [Errno 13] Permission denied\n",
      "  warnings.warn(\"\\n\" + msg)\n"
     ]
    }
   ],
   "source": [
    "import xarray as xr\n",
    "import dask\n",
    "import numpy as np\n",
    "import os\n",
    "import time\n",
    "import glob\n",
    "from datetime import date\n",
    "today=date.today()\n",
    "\n",
    "import sys\n",
    "sys.path.insert(0,'/home/albert7a/git/xscale')\n",
    "import xscale\n",
    "\n",
    "from dask_jobqueue import SLURMCluster \n",
    "from dask.distributed import Client \n",
    "  \n",
    "cluster = SLURMCluster(cores=1,name='make_profiles',walltime='00:20:00',job_extra=['--constraint=HSW24','--exclusive','--nodes=1','--ntasks-per-node=24'],memory='120GB',interface='ib0') \n",
    "print(cluster.job_script()) \n",
    "\n",
    "cluster.scale(240) \n",
    "\n"
   ]
  },
  {
   "cell_type": "code",
   "execution_count": 2,
   "metadata": {},
   "outputs": [
    {
     "data": {
      "application/vnd.jupyter.widget-view+json": {
       "model_id": "55bd7f9309914bd7bde44ced7e8a1ac8",
       "version_major": 2,
       "version_minor": 0
      },
      "text/plain": [
       "VBox(children=(HTML(value='<h2>SLURMCluster</h2>'), HBox(children=(HTML(value='\\n<div>\\n  <style scoped>\\n    …"
      ]
     },
     "metadata": {},
     "output_type": "display_data"
    }
   ],
   "source": [
    "cluster"
   ]
  },
  {
   "cell_type": "code",
   "execution_count": 3,
   "metadata": {},
   "outputs": [],
   "source": [
    "import zarr"
   ]
  },
  {
   "cell_type": "code",
   "execution_count": 4,
   "metadata": {},
   "outputs": [],
   "source": [
    "from dask.distributed import Client\n",
    "client = Client(cluster)\n"
   ]
  },
  {
   "cell_type": "code",
   "execution_count": 5,
   "metadata": {},
   "outputs": [
    {
     "data": {
      "text/html": [
       "<table style=\"border: 2px solid white;\">\n",
       "<tr>\n",
       "<td style=\"vertical-align: top; border: 0px solid white\">\n",
       "<h3>Client</h3>\n",
       "<ul>\n",
       "  <li><b>Scheduler: </b>tcp://172.30.100.1:40139\n",
       "  <li><b>Dashboard: </b><a href='http://172.30.100.1:39777/status' target='_blank'>http://172.30.100.1:39777/status</a>\n",
       "</ul>\n",
       "</td>\n",
       "<td style=\"vertical-align: top; border: 0px solid white\">\n",
       "<h3>Cluster</h3>\n",
       "<ul>\n",
       "  <li><b>Workers: </b>0</li>\n",
       "  <li><b>Cores: </b>0</li>\n",
       "  <li><b>Memory: </b>0 B</li>\n",
       "</ul>\n",
       "</td>\n",
       "</tr>\n",
       "</table>"
      ],
      "text/plain": [
       "<Client: scheduler='tcp://172.30.100.1:40139' processes=0 cores=0>"
      ]
     },
     "execution_count": 5,
     "metadata": {},
     "output_type": "execute_result"
    }
   ],
   "source": [
    "client"
   ]
  },
  {
   "cell_type": "code",
   "execution_count": 6,
   "metadata": {},
   "outputs": [],
   "source": [
    "nb_workers = 0\n",
    "while True:\n",
    "    nb_workers = len(client.scheduler_info()[\"workers\"])\n",
    "    if nb_workers >= 2:\n",
    "        break\n",
    "    time.sleep(1)\n"
   ]
  },
  {
   "cell_type": "code",
   "execution_count": null,
   "metadata": {
    "scrolled": false
   },
   "outputs": [
    {
     "name": "stdout",
     "output_type": "stream",
     "text": [
      "Box_1\n",
      "Box_2\n",
      "Box_3\n",
      "Box_4\n",
      "Box_5\n",
      "Box_6\n",
      "Box_7\n",
      "Box_8\n",
      "Box_9\n",
      "Box_10\n",
      "Box_11\n",
      "Box_12\n",
      "Box_13\n",
      "Box_14\n",
      "read the data\n",
      "compute buoyancy\n",
      "filter w\n",
      "filter buoyancy\n",
      "Box_1\n",
      "averaging\n",
      "to dataset\n",
      "to netcdf\n",
      "Box_2\n",
      "averaging\n",
      "to dataset\n",
      "to netcdf\n",
      "Box_3\n",
      "averaging\n",
      "to dataset\n",
      "to netcdf\n",
      "Box_4\n",
      "averaging\n",
      "to dataset\n",
      "to netcdf\n",
      "Box_5\n",
      "averaging\n",
      "to dataset\n",
      "to netcdf\n"
     ]
    },
    {
     "name": "stderr",
     "output_type": "stream",
     "text": [
      "distributed.comm.tcp - WARNING - Closing dangling stream in <TCP  local=tcp://172.30.100.1:41180 remote=tcp://172.30.100.1:40139>\n",
      "distributed.comm.tcp - WARNING - Closing dangling stream in <TCP  local=tcp://172.30.100.1:41196 remote=tcp://172.30.100.1:40139>\n",
      "distributed.comm.tcp - WARNING - Closing dangling stream in <TCP  local=tcp://172.30.100.1:41254 remote=tcp://172.30.100.1:40139>\n",
      "distributed.comm.tcp - WARNING - Closing dangling stream in <TCP  local=tcp://172.30.100.1:41222 remote=tcp://172.30.100.1:40139>\n",
      "distributed.comm.tcp - WARNING - Closing dangling stream in <TCP  local=tcp://172.30.100.1:41228 remote=tcp://172.30.100.1:40139>\n",
      "distributed.comm.tcp - WARNING - Closing dangling stream in <TCP  local=tcp://172.30.100.1:41234 remote=tcp://172.30.100.1:40139>\n",
      "distributed.comm.tcp - WARNING - Closing dangling stream in <TCP  local=tcp://172.30.100.1:47942 remote=tcp://172.30.100.1:40139>\n",
      "distributed.comm.tcp - WARNING - Closing dangling stream in <TCP  local=tcp://172.30.100.1:47944 remote=tcp://172.30.100.1:40139>\n",
      "distributed.comm.tcp - WARNING - Closing dangling stream in <TCP  local=tcp://172.30.100.1:47948 remote=tcp://172.30.100.1:40139>\n",
      "distributed.comm.tcp - WARNING - Closing dangling stream in <TCP  local=tcp://172.30.100.1:47956 remote=tcp://172.30.100.1:40139>\n",
      "distributed.utils_perf - WARNING - full garbage collections took 28% CPU time recently (threshold: 10%)\n"
     ]
    },
    {
     "name": "stdout",
     "output_type": "stream",
     "text": [
      "Box_6\n",
      "averaging\n",
      "to dataset\n",
      "to netcdf\n",
      "Box_7\n",
      "averaging\n",
      "to dataset\n",
      "to netcdf\n"
     ]
    },
    {
     "name": "stderr",
     "output_type": "stream",
     "text": [
      "distributed.comm.tcp - WARNING - Closing dangling stream in <TCP  local=tcp://172.30.100.1:48044 remote=tcp://172.30.100.1:40139>\n",
      "distributed.comm.tcp - WARNING - Closing dangling stream in <TCP  local=tcp://172.30.100.1:48048 remote=tcp://172.30.100.1:40139>\n",
      "distributed.comm.tcp - WARNING - Closing dangling stream in <TCP  local=tcp://172.30.100.1:48050 remote=tcp://172.30.100.1:40139>\n",
      "distributed.comm.tcp - WARNING - Closing dangling stream in <TCP  local=tcp://172.30.100.1:48084 remote=tcp://172.30.100.1:40139>\n",
      "distributed.utils_perf - WARNING - full garbage collections took 28% CPU time recently (threshold: 10%)\n"
     ]
    },
    {
     "name": "stdout",
     "output_type": "stream",
     "text": [
      "Box_8\n",
      "averaging\n",
      "to dataset\n",
      "to netcdf\n",
      "Box_9\n",
      "averaging\n",
      "to dataset\n",
      "to netcdf\n",
      "Box_10\n",
      "averaging\n",
      "to dataset\n",
      "to netcdf\n"
     ]
    },
    {
     "name": "stderr",
     "output_type": "stream",
     "text": [
      "distributed.comm.tcp - WARNING - Closing dangling stream in <TCP  local=tcp://172.30.100.1:54754 remote=tcp://172.30.100.1:40139>\n",
      "distributed.utils_perf - WARNING - full garbage collections took 25% CPU time recently (threshold: 10%)\n"
     ]
    }
   ],
   "source": [
    "data_dir = '/store/CT1/hmg2840/lbrodeau/eNATL60/eNATL60-BLBT02-S/'\n",
    "gridfile='/store/CT1/hmg2840/lbrodeau/eNATL60/eNATL60-I/mesh_mask_eNATL60_3.6_lev1.nc4'\n",
    "dsgrid=xr.open_dataset(gridfile,chunks={'x':1000,'y':1000})\n",
    "\n",
    "\n",
    "\n",
    "import Box2x2 as bb\n",
    "\n",
    "\n",
    "def compute_buoy(t,s):\n",
    "    rau0  = 1000\n",
    "    grav  = 9.81\n",
    "    buoy= -1*(grav/rau0)*sigma0(t,s)\n",
    "    return buoy\n",
    "\n",
    "def sigma0(t,s):\n",
    "    zrau0=1000\n",
    "    zsr=np.sqrt(np.abs(s))\n",
    "    zs=s\n",
    "    zt=t\n",
    "    zr1 = ( ( ( ( 6.536332e-9*zt-1.120083e-6 )*zt+1.001685e-4)*zt - 9.095290e-3 )*zt+6.793952e-2 )*zt+999.842594\n",
    "    zr2= ( ( ( 5.3875e-9*zt-8.2467e-7 )*zt+7.6438e-5 ) *zt - 4.0899e-3 ) *zt+0.824493\n",
    "    zr3= ( -1.6546e-6*zt+1.0227e-4 ) *zt-5.72466e-3\n",
    "    zr4= 4.8314e-4\n",
    "    sigma0=( zr4*zs + zr3*zsr + zr2 ) *zs + zr1 - zrau0\n",
    "    return sigma0\n",
    "\n",
    "def filt(w):\n",
    "    win_box2D = w.window\n",
    "    win_box2D.set(window='hanning', cutoff=20, dim=['x', 'y'], n=[30, 30])\n",
    "    bw = win_box2D.boundary_weights(drop_dims=[])\n",
    "    w_LS = win_box2D.convolve(weights=bw)\n",
    "    w_SS=w-w_LS\n",
    "    return w_SS\n",
    "\n",
    "\n",
    "\n",
    "\n",
    "def compute_mean_wprime_bprime(date):\n",
    "    print('read the data')\n",
    "    tfilename = sorted(glob.glob(data_dir+'*/eNATL60-BLBT02_1h_*_gridT_'+date+'-'+date+'.nc'))\n",
    "    tfile=tfilename[0]\n",
    "    dst=xr.open_dataset(tfile,chunks={'x':1000,'y':1000,'time_counter':1,'deptht':1})\n",
    "    tdata=dst['votemper']\n",
    "    sfilename = sorted(glob.glob(data_dir+'*/eNATL60-BLBT02_1h_*_gridS_'+date+'-'+date+'.nc'))\n",
    "    sfile=sfilename[0]\n",
    "    dss=xr.open_dataset(sfile,chunks={'x':1000,'y':1000,'time_counter':1,'deptht':1})\n",
    "    sdata=dss['vosaline']\n",
    "    wfilename = sorted(glob.glob(data_dir+'*/eNATL60-BLBT02_1h_*_gridW_'+date+'-'+date+'.nc'))\n",
    "    wfile=wfilename[0]\n",
    "    dsw=xr.open_dataset(wfile,chunks={'x':1000,'y':1000,'time_counter':1,'depthw':1})\n",
    "    wdata=dsw['vovecrtz']\n",
    "    wdata_t=wdata.rename({'depthw':'deptht'})\n",
    "    print('compute buoyancy')\n",
    "    buoy=compute_buoy(tdata,sdata)\n",
    "    print('filter w')\n",
    "    wprime=filt(wdata_t)\n",
    "    print('filter buoyancy')\n",
    "    bprime=filt(buoy)\n",
    "    wprimebprime=wprime*bprime\n",
    "    for ibox in bb.boxes:\n",
    "        box = ibox\n",
    "        print(box.name)  \n",
    "        profile_name='/scratch/cnt0024/hmg2840/albert7a/eNATL60/scale/eNATL60'+box.name+'-BLBT02_y'+date[0:4]+'m'+date[4:6]+'d'+date[6:9]+'_wprimebprime-profile.nc'\n",
    "        #if not os.path.exists(profile_name):\n",
    "        print('averaging')\n",
    "        profile=wprimebprime[:,:,box.jmin:box.jmax,box.imin:box.imax].mean(dim={'x','y','time_counter'})\n",
    "        print('to dataset')\n",
    "        dataset=profile.to_dataset(name='wprimebprime')\n",
    "        dataset['wprimebprime'].attrs=tdata.attrs\n",
    "        dataset['wprimebprime'].attrs['standard_name']='vertical flux of small scales buoyancy' \n",
    "        dataset['wprimebprime'].attrs['long_name']='wprimebprime'\n",
    "        dataset['wprimebprime'].attrs['units']='m2/s3'        \n",
    "        dataset.attrs['global_attribute']= 'vertical flux of small scales buoyancy profile averaged over 24h and in '+box.name+' computed on occigen with dask-jobqueue '+str(today)\n",
    "        print('to netcdf')\n",
    "        dataset.to_netcdf(path=profile_name,mode='w')\n",
    "\n",
    "\n",
    "\n",
    "\n",
    "%time compute_mean_wprime_bprime('20090701')\n",
    "\n",
    "\n",
    "\n",
    "\n"
   ]
  },
  {
   "cell_type": "code",
   "execution_count": null,
   "metadata": {
    "scrolled": false
   },
   "outputs": [],
   "source": []
  },
  {
   "cell_type": "code",
   "execution_count": null,
   "metadata": {},
   "outputs": [],
   "source": []
  }
 ],
 "metadata": {
  "kernelspec": {
   "display_name": "Python 2",
   "language": "python",
   "name": "python2"
  },
  "language_info": {
   "codemirror_mode": {
    "name": "ipython",
    "version": 2
   },
   "file_extension": ".py",
   "mimetype": "text/x-python",
   "name": "python",
   "nbconvert_exporter": "python",
   "pygments_lexer": "ipython2",
   "version": "2.7.16"
  }
 },
 "nbformat": 4,
 "nbformat_minor": 2
}
