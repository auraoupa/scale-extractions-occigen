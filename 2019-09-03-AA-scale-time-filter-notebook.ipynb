{
 "cells": [
  {
   "cell_type": "code",
   "execution_count": 1,
   "metadata": {},
   "outputs": [
    {
     "name": "stdout",
     "output_type": "stream",
     "text": [
      "#!/usr/bin/env bash\n",
      "\n",
      "#SBATCH -J make_profiles\n",
      "#SBATCH -n 1\n",
      "#SBATCH --cpus-per-task=1\n",
      "#SBATCH --mem=112G\n",
      "#SBATCH -t 00:20:00\n",
      "#SBATCH --constraint=HSW24\n",
      "#SBATCH --exclusive\n",
      "#SBATCH --nodes=1\n",
      "#SBATCH --ntasks-per-node=24\n",
      "JOB_ID=${SLURM_JOB_ID%;*}\n",
      "\n",
      "\n",
      "\n",
      "/scratch/cnt0024/hmg2840/albert7a/anaconda3/bin/python -m distributed.cli.dask_worker tcp://172.30.100.2:45713 --nthreads 0 --nprocs 28 --memory-limit 4.29GB --name make_profiles--${JOB_ID}-- --death-timeout 60 --local-directory $SCRATCHDIR/daskjobqueue --interface ib0\n",
      "\n"
     ]
    },
    {
     "name": "stderr",
     "output_type": "stream",
     "text": [
      "/scratch/cnt0024/hmg2840/albert7a/anaconda3/lib/python3.7/site-packages/distributed/dashboard/core.py:74: UserWarning: \n",
      "Failed to start diagnostics server on port 8787. [Errno 13] Permission denied\n",
      "  warnings.warn(\"\\n\" + msg)\n"
     ]
    }
   ],
   "source": [
    "import xarray as xr\n",
    "import dask\n",
    "import numpy as np\n",
    "import os\n",
    "import time\n",
    "import glob\n",
    "from datetime import date\n",
    "today=date.today()\n",
    "\n",
    "import sys\n",
    "sys.path.insert(0,'/home/albert7a/git/xscale')\n",
    "import xscale\n",
    "\n",
    "from dask_jobqueue import SLURMCluster \n",
    "from dask.distributed import Client \n",
    "  \n",
    "cluster = SLURMCluster(cores=1,name='make_profiles',walltime='00:20:00',job_extra=['--constraint=HSW24','--exclusive','--nodes=1','--ntasks-per-node=24'],memory='120GB',interface='ib0') \n",
    "print(cluster.job_script()) \n",
    "\n",
    "cluster.scale(240) \n",
    "\n"
   ]
  },
  {
   "cell_type": "code",
   "execution_count": 2,
   "metadata": {},
   "outputs": [
    {
     "data": {
      "application/vnd.jupyter.widget-view+json": {
       "model_id": "4c40749a46864b1396a8733c1581a371",
       "version_major": 2,
       "version_minor": 0
      },
      "text/plain": [
       "VBox(children=(HTML(value='<h2>SLURMCluster</h2>'), HBox(children=(HTML(value='\\n<div>\\n  <style scoped>\\n    …"
      ]
     },
     "metadata": {},
     "output_type": "display_data"
    }
   ],
   "source": [
    "cluster"
   ]
  },
  {
   "cell_type": "code",
   "execution_count": 3,
   "metadata": {},
   "outputs": [],
   "source": [
    "from dask.distributed import Client\n",
    "client = Client(cluster)\n"
   ]
  },
  {
   "cell_type": "code",
   "execution_count": 4,
   "metadata": {},
   "outputs": [
    {
     "data": {
      "text/html": [
       "<table style=\"border: 2px solid white;\">\n",
       "<tr>\n",
       "<td style=\"vertical-align: top; border: 0px solid white\">\n",
       "<h3>Client</h3>\n",
       "<ul>\n",
       "  <li><b>Scheduler: </b>tcp://172.30.100.2:45713\n",
       "  <li><b>Dashboard: </b><a href='http://172.30.100.2:46038/status' target='_blank'>http://172.30.100.2:46038/status</a>\n",
       "</ul>\n",
       "</td>\n",
       "<td style=\"vertical-align: top; border: 0px solid white\">\n",
       "<h3>Cluster</h3>\n",
       "<ul>\n",
       "  <li><b>Workers: </b>0</li>\n",
       "  <li><b>Cores: </b>0</li>\n",
       "  <li><b>Memory: </b>0 B</li>\n",
       "</ul>\n",
       "</td>\n",
       "</tr>\n",
       "</table>"
      ],
      "text/plain": [
       "<Client: scheduler='tcp://172.30.100.2:45713' processes=0 cores=0>"
      ]
     },
     "execution_count": 4,
     "metadata": {},
     "output_type": "execute_result"
    }
   ],
   "source": [
    "client"
   ]
  },
  {
   "cell_type": "code",
   "execution_count": 5,
   "metadata": {},
   "outputs": [],
   "source": [
    "nb_workers = 0\n",
    "while True:\n",
    "    nb_workers = len(client.scheduler_info()[\"workers\"])\n",
    "    if nb_workers >= 2:\n",
    "        break\n",
    "    time.sleep(1)\n"
   ]
  },
  {
   "cell_type": "code",
   "execution_count": 6,
   "metadata": {
    "scrolled": false
   },
   "outputs": [],
   "source": [
    "def time_filt_aco():\n",
    "\n",
    "    fileUtide=\"/store/albert7a/eNATL60/eNATL60-BLBT02-S/1h/surf/eNATL60ACO-BLBT02_y2009m10d29.1h_sozocrtx.nc\"\n",
    "    fUtide = xr.open_mfdataset(fileUtide,chunks={'x':500,'y':500})\n",
    "    Utide=fUtide['sozocrtx'][:]\n",
    "    navlat= fUtide['nav_lat'][0]\n",
    "    navlon= fUtide['nav_lon'][0]\n",
    "    T=2*np.pi/(1E-4)\n",
    "\n",
    "    wutide=Utide.window\n",
    "    wutide.set(n=48,dim='time_counter', cutoff=2*T)\n",
    "    Utidefilt=wutide.convolve()\n",
    "    output_name='/scratch/cnt0024/hmg2840/albert7a/eNATL60/scale/eNATL60ACO-BLBT02_y2009m10d29.1h_sozocrtx_time_filt_2Coriolis.nc'\n",
    "    if not os.path.exists(output_name):\n",
    "            print('to dataset')\n",
    "            dataset=Utidefilt.to_dataset(name='uprime')\n",
    "            dataset['uprime'].attrs=Utide.attrs\n",
    "            dataset['uprime'].attrs['standard_name']='no wave zonal velocity' \n",
    "            dataset['uprime'].attrs['long_name']='uprime'\n",
    "            dataset['uprime'].attrs['units']='m/s'        \n",
    "            dataset.attrs['global_attribute']= 'no wave zonal velocity computed on occigen with dask-jobqueue '+str(today)\n",
    "            print('to netcdf')\n",
    "            dataset.to_netcdf(path=output_name,mode='w')\n",
    "            print('all done')\n",
    "    print('already done')\n"
   ]
  },
  {
   "cell_type": "code",
   "execution_count": 7,
   "metadata": {},
   "outputs": [
    {
     "name": "stdout",
     "output_type": "stream",
     "text": [
      "to dataset\n",
      "to netcdf\n",
      "all done\n",
      "already done\n",
      "CPU times: user 1.17 s, sys: 226 ms, total: 1.39 s\n",
      "Wall time: 7.96 s\n"
     ]
    },
    {
     "name": "stderr",
     "output_type": "stream",
     "text": [
      "/scratch/cnt0024/hmg2840/albert7a/anaconda3/lib/python3.7/site-packages/distributed/scheduler.py:313: UserWarning: WorkerState.ncores has moved to WorkerState.nthreads\n",
      "  warnings.warn(\"WorkerState.ncores has moved to WorkerState.nthreads\")\n"
     ]
    }
   ],
   "source": [
    "%time time_filt_aco()"
   ]
  }
 ],
 "metadata": {
  "kernelspec": {
   "display_name": "Python 3",
   "language": "python",
   "name": "python3"
  },
  "language_info": {
   "codemirror_mode": {
    "name": "ipython",
    "version": 3
   },
   "file_extension": ".py",
   "mimetype": "text/x-python",
   "name": "python",
   "nbconvert_exporter": "python",
   "pygments_lexer": "ipython3",
   "version": "3.7.3"
  }
 },
 "nbformat": 4,
 "nbformat_minor": 2
}
